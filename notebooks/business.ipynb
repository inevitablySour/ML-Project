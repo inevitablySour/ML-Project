{
 "cells": [
  {
   "cell_type": "markdown",
   "id": "bcd16fa0",
   "metadata": {},
   "source": [
    "# Phase One Business And Understanding"
   ]
  }
 ],
 "metadata": {
  "language_info": {
   "name": "python"
  }
 },
 "nbformat": 4,
 "nbformat_minor": 5
}
