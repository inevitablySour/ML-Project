{
 "cells": [
  {
   "cell_type": "markdown",
   "id": "bcd16fa0",
   "metadata": {},
   "source": [
    "# Step 1: Business Understanding (Not Graded)\n",
    "\n",
    "---\n",
    "\n",
    "## Goal\n",
    "Understand CAICLE’s needs and define the machine learning problem clearly."
   ]
  },
  {
   "cell_type": "markdown",
   "id": "95b4ee53",
   "metadata": {},
   "source": [
    "---\n",
    "## Tasks\n",
    "- Identify what “future race performance” means in measurable terms, think about what the business actually want and what be most valuable:\n",
    "    - Race placement\n",
    "    - Finishing time\n",
    "    - Probability of finishing in top 10\n",
    "- Define success criteria:\n",
    "    - Acceptable prediction error\n",
    "    - Business usefulness\n",
    "- Summarize the client’s goals and the impact on CAICLE’s rider selection strategy\n",
    "---"
   ]
  },
  {
   "cell_type": "markdown",
   "id": "01e99951",
   "metadata": {},
   "source": [
    "## Responsibilities\n",
    "- Translate the business problem into an ML target\n",
    "- Write up the business problem and success criteria\n",
    "- Research similar problems in sports analytics and summarize findings"
   ]
  },
  {
   "cell_type": "markdown",
   "id": "88f700df",
   "metadata": {},
   "source": [
    "| Task | Description |\n",
    "|------|------------|\n",
    "| Define ML target | Decide what “future race performance” means quantitatively |\n",
    "| Success criteria | Specify acceptable prediction error and business impact |\n",
    "| Research | Investigate similar sports analytics projects |\n",
    "\n",
    "---"
   ]
  },
  {
   "cell_type": "markdown",
   "id": "accb3791",
   "metadata": {},
   "source": [
    "## References / Notes\n",
    "- Include references to sports analytics case studies or research papers.\n",
    "- Optional: Add example calculations or metrics for measurable success criteria.\n",
    "---"
   ]
  }
 ],
 "metadata": {
  "kernelspec": {
   "display_name": "Python 3",
   "language": "python",
   "name": "python3"
  },
  "language_info": {
   "codemirror_mode": {
    "name": "ipython",
    "version": 3
   },
   "file_extension": ".py",
   "mimetype": "text/x-python",
   "name": "python",
   "nbconvert_exporter": "python",
   "pygments_lexer": "ipython3",
   "version": "3.12.6"
  }
 },
 "nbformat": 4,
 "nbformat_minor": 5
}
