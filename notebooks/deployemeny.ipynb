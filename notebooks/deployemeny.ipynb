{
 "cells": [
  {
   "cell_type": "markdown",
   "id": "ee891aab",
   "metadata": {},
   "source": [
    "# Model deployment"
   ]
  }
 ],
 "metadata": {
  "language_info": {
   "name": "python"
  }
 },
 "nbformat": 4,
 "nbformat_minor": 5
}
