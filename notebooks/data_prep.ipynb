{
 "cells": [
  {
   "cell_type": "markdown",
   "id": "4bc3f9e7",
   "metadata": {},
   "source": [
    "# Data Prep\n",
    "this notebook is going to cover the data prep"
   ]
  }
 ],
 "metadata": {
  "language_info": {
   "name": "python"
  }
 },
 "nbformat": 4,
 "nbformat_minor": 5
}
